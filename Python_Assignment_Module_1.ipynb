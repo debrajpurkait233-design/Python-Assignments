{
  "nbformat": 4,
  "nbformat_minor": 0,
  "metadata": {
    "colab": {
      "provenance": []
    },
    "kernelspec": {
      "name": "python3",
      "display_name": "Python 3"
    },
    "language_info": {
      "name": "python"
    }
  },
  "cells": [
    {
      "cell_type": "code",
      "execution_count": null,
      "metadata": {
        "id": "w4xWRYwsgh5M"
      },
      "outputs": [],
      "source": []
    },
    {
      "cell_type": "markdown",
      "source": [
        "# Python Basic Questions and Answers\n",
        "**1.** **What is Python, and why is it popular ?**\n",
        "- Python is a high level programming language which is a Compiled-Interpreted language. It is used world wide in software development, web development, application development, data science works, machine larnings etc. It can be run on many different platforms and increases development speed. It is also very efficient and easy to learn so developers are using python rather than C or C++ nowdays.\n",
        "- Python is popular because it is easy to learn and it is work-efficient, also it makes developers more productive as we can write a python program in fewer lines compared to many other languages.Developers can create powerful applications with a minimum effort so python is efficient, fast and reliable. It offers versatile web development solutions aswell.\n",
        "\n",
        "**2. What is an interpreter in Python ?**\n",
        "- An interpreter in python is a type of program that converts python code into machine language and runs them. Actually it reads and runs code one line at a time and it acts as a bridge between the high level language i.e. pythone code here and the low level machine language that computers can directly understand and utilize. Whenever error occurs it stops there and shows it and it will not go to the further line untill error is removed. Python codes in .py file then interpreter convert it into byte codes i.e. .pyc files and thenm the byte code is executed by PVM so nowsays python is often called compiled-interpreted language.\n",
        "\n",
        "**3. What are pre-defined keywords in Python ?**\n",
        "- There are pre-defined keywords in pythons which have some special specific meanings and funcionalities. Some of pre-defineed python keywors are given below:-\n",
        "\n",
        "i) *Function and class definitions:* def, return, class etc.\n",
        "\n",
        "ii) *Control flow:* if, else, elif, for, while etc.\n",
        "\n",
        "iii) *Handling of the exceptions:* except, try etc.\n",
        "\n",
        "iv) *Other keywordss:* true, false, pass etc.\n",
        "\n",
        "**4. Can keywords be used as variable names?**\n",
        "- No, keywords can not be used as variable names as keywords are such words which have some specific special meanings and funcitionalities in languages syntax and structure. Keywords are actually the parts of the python language itself and these define rules and structures in python so if we use keywords as variable names there will be syntax error.\n",
        "\n",
        "**5.  What is mutability in Python?**\n",
        "- In Python, if the state or value of an object can be changed after its creation then it will be called mutability so the objects whose structure or contents can be changed or modified after it has been created without creating a new object then those objects reffered to be mutable objects.\n",
        "**6. Why are lists mutable, but tuples are immutable?**\n",
        "- Lists are mutable because lists are dynamic arrays, which allow for efficient insertion and deletation of elements after its creation so lists are designed for dynamic data manipulation but tuples are immutable as they can not be changed after creation. Once a tuple is created, its contents are fixed so tuples are static arrays, making them more memory efficient but less flexible. Tuples are designed for Data Integrity, Hashability which allows tuples to be used as dictionary keys.\n",
        "\n",
        "**7. What is the difference between “==” and “is” operators in Python?**\n",
        "- In Python '==' is Equality Operator which checks if the values of two objects are equal, that mkeans it compares the identities of the objects.\n",
        "'is' is Identity Operator which checks if both variables refer to the same object in memory, that means this operator compares the identities of the objects.\n",
        "\n",
        "**8. What are logical operators in Python ?**\n",
        "- In Python, Logical Operators are used to compare combine conditional statements. Some logical Operators are given below.\n",
        "\n",
        "i) AND : It returns True if both conditions are true. EX-x>5 and x<10.\n",
        "\n",
        "ii) OR : It returns True if at least one condition is true. Ex-x>5 or x<0.\n",
        "\n",
        "iii) NOT : It returns the opposite of the condition. Ex-not x>5.\n",
        "\n",
        "**9. What is type casting in Python?**\n",
        "- Type casting refers to the process of converting one data type into another. There are two types of type casting.\n",
        "\n",
        "i) Implicitg Type Casting: In this type of type casting Python automatically converts one data type to another when it is necessary.\n",
        "\n",
        "ii) Explicit Type Casting: In this type of type casting we manually convert one data type to another using functions.\n",
        "\n",
        "**10.  What is the difference between implicit and explicit type casting?**\n",
        "\n",
        "- Implicitg Type Casting: In this type of type casting Python automatically converts one data type to another when it is necessary.\n",
        "\n",
        "Ex: a = 3; b = 2.; result = a+b ( ais automatically converted to float).\n",
        "\n",
        "- Explicit Type Casting: In this type of type casting we manually convert one data type to another using functions.\n",
        "\n",
        "Ex: a = \"3\"; b = int(a) (string \"3\" is converted to integer 3).\n",
        "\n",
        "**11. What is the purpose of conditional statements in Python?**\n",
        "- Conditional Statements in python allow us to make decisions based on specific conditions and they enable our program to execute blocks of code based on conditions, handle various senarios and respond accordingly, improve code logic and decision making etc.\n",
        "\n",
        "Ex-\n",
        "\n",
        "if : it checks if a condition is true.\n",
        "\n",
        "else : it executes code if all conditions are false.\n",
        "\n",
        "elif : it checks additional conditions if the initial condition is false.\n",
        "\n",
        "**12. How does the elif statement work?**\n",
        "- elif checks additional conditions if the initial condition is false.\n"
      ],
      "metadata": {
        "id": "WbMjrLJVg6Lo"
      }
    },
    {
      "cell_type": "code",
      "source": [
        "x==3\n",
        "if x>10:\n",
        "  print(\"x is greater than 10\")\n",
        "  elif x==3:\n",
        "    print(\"x is equal to 3\")\n",
        "    else:\n",
        "      print(\"x is less than 3\")"
      ],
      "metadata": {
        "id": "4y-87EYQ7Qfm"
      },
      "execution_count": null,
      "outputs": []
    },
    {
      "cell_type": "markdown",
      "source": [
        "**13. What is the difference between for and while loops?**\n",
        "- 'For' loop is used for iterating over sequencees (lists, tuples strings etc) or iterables. It execute a block of code for each item in the sequence. whereas 'While' loop is used for repeating a block of code while a certain condition is true. It execute a block of code as long as the condition remains true. So 'For' loop iterates over sequences but 'While' loop repeat based on conditions and 'For' loops automatically handel iteration bur 'While' loops require manual condition management.\n",
        "\n",
        "**14. Describe a scenario where a while loop is more suitable than a for loop.**\n",
        "- During simulating a game loop if we want to keep the game running until the bplayer decides to quit then while loop is more suitable than for loop, here number of iterations is unknown beforehand so it is dynamic and depends on user input. Here for loop is ideal because it would require knowing the number of iterations beforehand so the while loop provides more flexibility and control in this scenatio."
      ],
      "metadata": {
        "id": "TdRabjcn8W_2"
      }
    },
    {
      "cell_type": "markdown",
      "source": [
        "# **Practical Questions**\n",
        "\n",
        "**1. Write a Python program to print \"Hello, World!\"**\n",
        "\n"
      ],
      "metadata": {
        "id": "GDoM9giIAvbE"
      }
    },
    {
      "cell_type": "code",
      "source": [
        "def greet():\n",
        "    print(\"Hello, World!\")\n",
        "\n",
        "greet()"
      ],
      "metadata": {
        "id": "Vy_zcklkBOkf",
        "colab": {
          "base_uri": "https://localhost:8080/"
        },
        "outputId": "15ee8e22-4e8e-4059-bc95-52ebbff8319b"
      },
      "execution_count": null,
      "outputs": [
        {
          "output_type": "stream",
          "name": "stdout",
          "text": [
            "Hello, World!\n"
          ]
        }
      ]
    },
    {
      "cell_type": "markdown",
      "source": [
        "**2. Write a Python program that displays your name and age.**\n"
      ],
      "metadata": {
        "id": "y7lTdI2eD9H9"
      }
    },
    {
      "cell_type": "code",
      "source": [
        "name = input(\"Enter your name: \")\n",
        "age = input(\"Enter your age: \")\n",
        "\n",
        "print(f\"Name: {name}\")\n",
        "print(f\"Age: {age}\")"
      ],
      "metadata": {
        "colab": {
          "base_uri": "https://localhost:8080/"
        },
        "id": "3gIM3J_aEdqG",
        "outputId": "07183dc3-5da4-4864-a32c-58546046c2b2"
      },
      "execution_count": null,
      "outputs": [
        {
          "output_type": "stream",
          "name": "stdout",
          "text": [
            "Enter your name: Debraj Purkait\n",
            "Enter your age: 23\n",
            "Name: Debraj Purkait\n",
            "Age: 23\n"
          ]
        }
      ]
    },
    {
      "cell_type": "markdown",
      "source": [
        "**3. Write code to print all the pre-defined keywords in Python using the keyword library.**\n"
      ],
      "metadata": {
        "id": "Yxzk0udaE6Cp"
      }
    },
    {
      "cell_type": "code",
      "source": [
        "import keyword\n",
        "print(\"Python keywords are...\")\n",
        "print(keyword.kwlist)"
      ],
      "metadata": {
        "colab": {
          "base_uri": "https://localhost:8080/"
        },
        "id": "UHsYPCsUFEhX",
        "outputId": "baf5dba6-559e-4a77-c4c5-0b1d3e46621b"
      },
      "execution_count": null,
      "outputs": [
        {
          "output_type": "stream",
          "name": "stdout",
          "text": [
            "Python keywords are...\n",
            "['False', 'None', 'True', 'and', 'as', 'assert', 'async', 'await', 'break', 'class', 'continue', 'def', 'del', 'elif', 'else', 'except', 'finally', 'for', 'from', 'global', 'if', 'import', 'in', 'is', 'lambda', 'nonlocal', 'not', 'or', 'pass', 'raise', 'return', 'try', 'while', 'with', 'yield']\n"
          ]
        }
      ]
    },
    {
      "cell_type": "markdown",
      "source": [
        "**4. Write a program that checks if a given word is a Python keyword.**\n",
        "\n"
      ],
      "metadata": {
        "id": "-nT45y8pHp4z"
      }
    },
    {
      "cell_type": "code",
      "source": [
        "import keyword\n",
        "\n",
        "def is_keyword(word):\n",
        "    return keyword.iskeyword(word)\n",
        "\n",
        "word = input(\"Enter a word: \")\n",
        "if is_keyword(word):\n",
        "    print(f\"'{word}' is a Python keyword.\")\n",
        "else:\n",
        "    print(f\"'{word}' is not a Python keyword.\")"
      ],
      "metadata": {
        "colab": {
          "base_uri": "https://localhost:8080/"
        },
        "id": "Lom1nDt9H0Ma",
        "outputId": "704deb6e-1531-4537-d70d-a172486a7a02"
      },
      "execution_count": null,
      "outputs": [
        {
          "output_type": "stream",
          "name": "stdout",
          "text": [
            "Enter a word: class\n",
            "'class' is a Python keyword.\n"
          ]
        }
      ]
    },
    {
      "cell_type": "markdown",
      "source": [
        "**5. Create a list and tuple in Python, and demonstrate how attempting to change an element works differently\n",
        "for each.**\n"
      ],
      "metadata": {
        "id": "j1-oO1c3IjbV"
      }
    },
    {
      "cell_type": "code",
      "source": [
        "list = [3, 4, 5, 6, 7]\n",
        "tuple = (3, 4, 5, 6, 7)\n",
        "print(\"Original List:\", list)\n",
        "print(\"Original Tuple:\", tuple)\n",
        "list[0] = 10\n",
        "print(\"Updated List:\", list)\n",
        "try:\n",
        "    tuple[0] = 10\n",
        "except TypeError as e:\n",
        "    print(\"Error when trying to modify tuple:\", e)\n",
        "print(\"Tuple remains unchanged:\", tuple)"
      ],
      "metadata": {
        "colab": {
          "base_uri": "https://localhost:8080/"
        },
        "id": "ziYvNEmGIsYX",
        "outputId": "13172685-9ab9-40d9-c5ca-a38850859b4b"
      },
      "execution_count": null,
      "outputs": [
        {
          "output_type": "stream",
          "name": "stdout",
          "text": [
            "Original List: [3, 4, 5, 6, 7]\n",
            "Original Tuple: (3, 4, 5, 6, 7)\n",
            "Updated List: [10, 4, 5, 6, 7]\n",
            "Error when trying to modify tuple: 'tuple' object does not support item assignment\n",
            "Tuple remains unchanged: (3, 4, 5, 6, 7)\n"
          ]
        }
      ]
    },
    {
      "cell_type": "markdown",
      "source": [
        "**6. Write a function to demonstrate the behavior of mutable and immutable arguments.**\n"
      ],
      "metadata": {
        "id": "_jDC9-lUJ-ZW"
      }
    },
    {
      "cell_type": "code",
      "source": [
        "def modify_data(list, number):\n",
        "    list.append(4)\n",
        "    number = 10\n",
        "\n",
        "list = [1, 2, 3]\n",
        "number = 5\n",
        "\n",
        "print(\"Before function call:\")\n",
        "print(\"List:\", list)\n",
        "print(\"Number:\", number)\n",
        "\n",
        "modify_data(list, number)\n",
        "\n",
        "print(\"\\nAfter function call:\")\n",
        "print(\"List:\", list)\n",
        "print(\"Number:\", number)"
      ],
      "metadata": {
        "colab": {
          "base_uri": "https://localhost:8080/"
        },
        "id": "QuhL0TC7KGyV",
        "outputId": "7a87d700-4875-42a3-b587-b447c18b8200"
      },
      "execution_count": null,
      "outputs": [
        {
          "output_type": "stream",
          "name": "stdout",
          "text": [
            "Before function call:\n",
            "List: [1, 2, 3]\n",
            "Number: 5\n",
            "\n",
            "After function call:\n",
            "List: [1, 2, 3, 4]\n",
            "Number: 5\n"
          ]
        }
      ]
    },
    {
      "cell_type": "markdown",
      "source": [
        "'number' is not modified outside the function as numbers are immutable but 'list' is modified within the function and the change persists outside the function because lists are mutable."
      ],
      "metadata": {
        "id": "OcJAq7xMYA9Q"
      }
    },
    {
      "cell_type": "markdown",
      "source": [
        "**7. Write a program that performs basic arithmetic operations on two user-input numbers.**\n"
      ],
      "metadata": {
        "id": "e8UvZ01nbJOD"
      }
    },
    {
      "cell_type": "code",
      "source": [
        "num1 = float(input(\"Enter the first number: \"))\n",
        "num2 = float(input(\"Enter the second number: \"))\n",
        "sum = num1 + num2\n",
        "print(f\"The sum of {num1} and {num2} is: {sum}\")\n"
      ],
      "metadata": {
        "colab": {
          "base_uri": "https://localhost:8080/"
        },
        "id": "3c2MzSIZbWaS",
        "outputId": "7035b4b5-2292-46eb-a995-f1018f26bd1f"
      },
      "execution_count": null,
      "outputs": [
        {
          "output_type": "stream",
          "name": "stdout",
          "text": [
            "Enter the first number: 5.9\n",
            "Enter the second number: 7.5\n",
            "The sum of 5.9 and 7.5 is: 13.4\n"
          ]
        }
      ]
    },
    {
      "cell_type": "markdown",
      "source": [
        "**8.  Write a program to demonstrate the use of logical operators.**\n"
      ],
      "metadata": {
        "id": "HZHGU90Eb_xB"
      }
    },
    {
      "cell_type": "code",
      "source": [
        "def check_eligibility():\n",
        "    age = int(input(\"Enter your age: \"))\n",
        "    income = float(input(\"Enter your annual income: \"))\n",
        "\n",
        "    if age >= 18 and income >= 30000:\n",
        "        print(\"You are eligible for a loan.\")\n",
        "    else:\n",
        "        print(\"You are not eligible for a loan.\")\n",
        "\n",
        "        if age < 18:\n",
        "            print(\"Reason: You are not 18 years old or above.\")\n",
        "        if income < 30000:\n",
        "            print(\"Reason: Your income is less than 30,000.\")\n",
        "\n",
        "check_eligibility()\n"
      ],
      "metadata": {
        "colab": {
          "base_uri": "https://localhost:8080/"
        },
        "id": "d4AmWfckcaiG",
        "outputId": "c25d1126-8204-43b0-8fd9-7aeb19c3a0ad"
      },
      "execution_count": null,
      "outputs": [
        {
          "output_type": "stream",
          "name": "stdout",
          "text": [
            "Enter your age: 15\n",
            "Enter your annual income: 40000\n",
            "You are not eligible for a loan.\n",
            "Reason: You are not 18 years old or above.\n"
          ]
        }
      ]
    },
    {
      "cell_type": "markdown",
      "source": [
        "**9. Write a Python program to convert user input from string to integer, float, and boolean types.**\n"
      ],
      "metadata": {
        "id": "xF_zr-U8f9KS"
      }
    },
    {
      "cell_type": "markdown",
      "source": [
        "**Program to convert user input from string to integer**"
      ],
      "metadata": {
        "id": "xkPunQ-Il4Jy"
      }
    },
    {
      "cell_type": "code",
      "source": [
        "def convert_to_integer():\n",
        "    user_input = input(\"Enter a value: \")\n",
        "\n",
        "    try:\n",
        "        integer_value = int(user_input)\n",
        "        print(f\"The integer value is: {integer_value}\")\n",
        "    except ValueError:\n",
        "        print(\" Please enter a valid integer.\")\n",
        "\n",
        "convert_to_integer()\n",
        "\n",
        "\n"
      ],
      "metadata": {
        "colab": {
          "base_uri": "https://localhost:8080/"
        },
        "id": "Qd0LAIFagNFj",
        "outputId": "d4118696-2089-4cd2-d0f3-ca8e035d5a6e"
      },
      "execution_count": null,
      "outputs": [
        {
          "output_type": "stream",
          "name": "stdout",
          "text": [
            "Enter a value: 2.3\n",
            " Please enter a valid integer.\n"
          ]
        }
      ]
    },
    {
      "cell_type": "markdown",
      "source": [
        "**Program to convert user input from string to float**"
      ],
      "metadata": {
        "id": "IJsFhKrwmP_i"
      }
    },
    {
      "cell_type": "code",
      "source": [
        "def convert_to_float():\n",
        "    user_input = input(\"Enter a value: \")\n",
        "\n",
        "    try:\n",
        "        float_value = float(user_input)\n",
        "        print(f\"The float value is: {float_value}\")\n",
        "    except ValueError:\n",
        "        print(\"unable to convert to float. Please enter a valid number.\")\n",
        "\n",
        "convert_to_float()\n",
        "\n"
      ],
      "metadata": {
        "colab": {
          "base_uri": "https://localhost:8080/"
        },
        "id": "-nvaNpN8mbwz",
        "outputId": "c36907f0-d158-40d1-de57-f899dae84edf"
      },
      "execution_count": null,
      "outputs": [
        {
          "output_type": "stream",
          "name": "stdout",
          "text": [
            "Enter a value: 2\n",
            "The float value is: 2.0\n"
          ]
        }
      ]
    },
    {
      "cell_type": "markdown",
      "source": [
        "**Program to convert user input from string to boolean type**\n"
      ],
      "metadata": {
        "id": "6Ev32P0cnEv3"
      }
    },
    {
      "cell_type": "code",
      "source": [
        "def convert_to_boolean():\n",
        "    user_input = input(\"Enter a boolean value (0/1): \").strip().lower()\n",
        "\n",
        "    if user_input == \"0\":\n",
        "        print(\"Boolean value: true\")\n",
        "    elif user_input == \"1\":\n",
        "        print(\"Boolean value: true\")\n",
        "    else:\n",
        "        print(\"Wrong boolean value. Please enter '0' or '1'\")\n",
        "\n",
        "convert_to_boolean()\n",
        "\n"
      ],
      "metadata": {
        "colab": {
          "base_uri": "https://localhost:8080/"
        },
        "id": "TcScmtaAnXYa",
        "outputId": "2a0a1e1b-d082-4569-f8a1-73bc02a1cfeb"
      },
      "execution_count": null,
      "outputs": [
        {
          "output_type": "stream",
          "name": "stdout",
          "text": [
            "Enter a boolean value (0/1): 5\n",
            "Wrong boolean value. Please enter '0' or '1'\n"
          ]
        }
      ]
    },
    {
      "cell_type": "markdown",
      "source": [
        "**10. Write code to demonstrate type casting with list elements.**\n"
      ],
      "metadata": {
        "id": "0KMq9jASoNI3"
      }
    },
    {
      "cell_type": "code",
      "source": [
        "\n",
        "string_list = [\"10\", \"20\", \"30\"]\n",
        "int_list = []\n",
        "for x in string_list:\n",
        "    int_list.append(int(x))\n",
        "print(\"String List:\", string_list)\n",
        "print(\"Integer List:\", int_list)\n",
        "str_list_again = []\n",
        "for x in int_list:\n",
        "    str_list_again.append(str(x))\n",
        "print(\"String List Again:\", str_list_again)\n",
        "\n"
      ],
      "metadata": {
        "colab": {
          "base_uri": "https://localhost:8080/"
        },
        "id": "atwHghZOoUaS",
        "outputId": "cf370fc8-e727-4f21-cca2-778bd6ddafc2"
      },
      "execution_count": null,
      "outputs": [
        {
          "output_type": "stream",
          "name": "stdout",
          "text": [
            "String List: ['10', '20', '30']\n",
            "Integer List: [10, 20, 30]\n",
            "String List Again: ['10', '20', '30']\n"
          ]
        }
      ]
    },
    {
      "cell_type": "markdown",
      "source": [
        "**11. Write a program that checks if a number is positive, negative, or zero.**\n"
      ],
      "metadata": {
        "id": "06f0IHIbqO3o"
      }
    },
    {
      "cell_type": "code",
      "source": [
        "def check_number():\n",
        "    num = float(input(\"Enter a number: \"))\n",
        "\n",
        "    if num > 0:\n",
        "        print(f\"{num} is a positive number.\")\n",
        "    elif num < 0:\n",
        "        print(f\"{num} is a negative number.\")\n",
        "    else:\n",
        "        print(f\"{num} is zero.\")\n",
        "\n",
        "check_number()"
      ],
      "metadata": {
        "colab": {
          "base_uri": "https://localhost:8080/"
        },
        "id": "a51CWHWBqZIs",
        "outputId": "63bac991-50e6-4c1d-9aac-2f1289643299"
      },
      "execution_count": null,
      "outputs": [
        {
          "output_type": "stream",
          "name": "stdout",
          "text": [
            "Enter a number: 0.99\n",
            "0.99 is a positive number.\n"
          ]
        }
      ]
    },
    {
      "cell_type": "markdown",
      "source": [
        "**12.  Write a for loop to print numbers from 1 to 10**\n",
        "\n"
      ],
      "metadata": {
        "id": "SpjrhZKErwxH"
      }
    },
    {
      "cell_type": "code",
      "source": [
        "for i in range(1, 11):\n",
        "    print(i)"
      ],
      "metadata": {
        "colab": {
          "base_uri": "https://localhost:8080/"
        },
        "id": "CU5rVE83sKbA",
        "outputId": "4ab5fc9c-7e6a-4af3-8afb-8fb38e443c67"
      },
      "execution_count": null,
      "outputs": [
        {
          "output_type": "stream",
          "name": "stdout",
          "text": [
            "1\n",
            "2\n",
            "3\n",
            "4\n",
            "5\n",
            "6\n",
            "7\n",
            "8\n",
            "9\n",
            "10\n"
          ]
        }
      ]
    },
    {
      "cell_type": "markdown",
      "source": [
        "**13.  Write a Python program to find the sum of all even numbers between 1 and 50.**\n"
      ],
      "metadata": {
        "id": "f7X0mOo3sS_B"
      }
    },
    {
      "cell_type": "code",
      "source": [
        "def sum_even_numbers():\n",
        "    sum = 0\n",
        "    for i in range(1, 51):\n",
        "        if i % 2 == 0:\n",
        "            sum += i\n",
        "    print(\"sum of all even numbers between 1 and 50 is:\", sum)\n",
        "\n",
        "sum_even_numbers()\n"
      ],
      "metadata": {
        "colab": {
          "base_uri": "https://localhost:8080/"
        },
        "id": "Cmm9V5D_sbMn",
        "outputId": "126a4168-4ff4-4899-b609-55b75ba06f03"
      },
      "execution_count": null,
      "outputs": [
        {
          "output_type": "stream",
          "name": "stdout",
          "text": [
            "sum of all even numbers between 1 and 50 is: 650\n"
          ]
        }
      ]
    },
    {
      "cell_type": "markdown",
      "source": [
        "**14. Write a program to reverse a string using a while loop.**\n"
      ],
      "metadata": {
        "id": "GBYp65s-tge5"
      }
    },
    {
      "cell_type": "code",
      "source": [
        "def reverse_string(s):\n",
        "    reversed_s = \"\"\n",
        "    i = len(s) - 1\n",
        "    while i >= 0:\n",
        "        reversed_s += s[i]\n",
        "        i -= 1\n",
        "    return reversed_s\n",
        "\n",
        "original_string = input(\"Enter a string: \")\n",
        "print(\"Reversed string:\", reverse_string(original_string))\n"
      ],
      "metadata": {
        "colab": {
          "base_uri": "https://localhost:8080/"
        },
        "id": "obGu8tuwtwX2",
        "outputId": "1ea74e22-fb87-43f0-e7a1-32ca02b275b1"
      },
      "execution_count": null,
      "outputs": [
        {
          "output_type": "stream",
          "name": "stdout",
          "text": [
            "Enter a string: 0123456789\n",
            "Reversed string: 9876543210\n"
          ]
        }
      ]
    },
    {
      "cell_type": "markdown",
      "source": [
        "**15.  Write a Python program to calculate the factorial of a number provided by the user using a while loop.**\n"
      ],
      "metadata": {
        "id": "I5aX5UkMuQ6T"
      }
    },
    {
      "cell_type": "code",
      "source": [
        "def calculate_factorial():\n",
        "    num = int(input(\"Enter a number: \"))\n",
        "    i = 1\n",
        "    factorial = 1\n",
        "    while i <= num:\n",
        "        factorial *= i\n",
        "        i += 1\n",
        "    print(f\"The factorial of {num} is: {factorial}\")\n",
        "\n",
        "calculate_factorial()\n"
      ],
      "metadata": {
        "colab": {
          "base_uri": "https://localhost:8080/"
        },
        "id": "HaA2Dy3guW69",
        "outputId": "b1978f61-dc13-4eb6-8f68-a3450a019c6c"
      },
      "execution_count": null,
      "outputs": [
        {
          "output_type": "stream",
          "name": "stdout",
          "text": [
            "Enter a number: 5\n",
            "The factorial of 5 is: 120\n"
          ]
        }
      ]
    }
  ]
}